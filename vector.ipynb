{
  "cells": [
    {
      "cell_type": "code",
      "execution_count": null,
      "metadata": {
        "collapsed": true,
        "id": "1Bg2PPdQhvR1",
        "outputId": "e7ac6325-381f-4d4b-ae66-8dfac480ff7a"
      },
      "outputs": [
        {
          "name": "stdout",
          "output_type": "stream",
          "text": [
            "Collecting matplotlib\n",
            "  Using cached matplotlib-3.10.0-cp313-cp313-win_amd64.whl.metadata (11 kB)\n",
            "Collecting seaborn\n",
            "  Using cached seaborn-0.13.2-py3-none-any.whl.metadata (5.4 kB)\n",
            "Collecting numpy\n",
            "  Using cached numpy-2.2.1-cp313-cp313-win_amd64.whl.metadata (60 kB)\n",
            "Collecting contourpy>=1.0.1 (from matplotlib)\n",
            "  Using cached contourpy-1.3.1-cp313-cp313-win_amd64.whl.metadata (5.4 kB)\n",
            "Collecting cycler>=0.10 (from matplotlib)\n",
            "  Using cached cycler-0.12.1-py3-none-any.whl.metadata (3.8 kB)\n",
            "Collecting fonttools>=4.22.0 (from matplotlib)\n",
            "  Using cached fonttools-4.55.3-cp313-cp313-win_amd64.whl.metadata (168 kB)\n",
            "Collecting kiwisolver>=1.3.1 (from matplotlib)\n",
            "  Using cached kiwisolver-1.4.8-cp313-cp313-win_amd64.whl.metadata (6.3 kB)\n",
            "Requirement already satisfied: packaging>=20.0 in c:\\users\\elohome ltd\\appdata\\roaming\\python\\python313\\site-packages (from matplotlib) (24.2)\n",
            "Requirement already satisfied: pillow>=8 in c:\\users\\elohome ltd\\appdata\\local\\programs\\python\\python313\\lib\\site-packages (from matplotlib) (11.0.0)\n",
            "Requirement already satisfied: pyparsing>=2.3.1 in c:\\users\\elohome ltd\\appdata\\local\\programs\\python\\python313\\lib\\site-packages (from matplotlib) (3.2.0)\n",
            "Requirement already satisfied: python-dateutil>=2.7 in c:\\users\\elohome ltd\\appdata\\roaming\\python\\python313\\site-packages (from matplotlib) (2.9.0.post0)\n",
            "Collecting pandas>=1.2 (from seaborn)\n",
            "  Using cached pandas-2.2.3-cp313-cp313-win_amd64.whl.metadata (19 kB)\n",
            "Requirement already satisfied: pytz>=2020.1 in c:\\users\\elohome ltd\\appdata\\local\\programs\\python\\python313\\lib\\site-packages (from pandas>=1.2->seaborn) (2024.2)\n",
            "Requirement already satisfied: tzdata>=2022.7 in c:\\users\\elohome ltd\\appdata\\local\\programs\\python\\python313\\lib\\site-packages (from pandas>=1.2->seaborn) (2024.2)\n",
            "Requirement already satisfied: six>=1.5 in c:\\users\\elohome ltd\\appdata\\roaming\\python\\python313\\site-packages (from python-dateutil>=2.7->matplotlib) (1.17.0)\n",
            "Using cached matplotlib-3.10.0-cp313-cp313-win_amd64.whl (8.0 MB)\n",
            "Using cached seaborn-0.13.2-py3-none-any.whl (294 kB)\n",
            "Using cached numpy-2.2.1-cp313-cp313-win_amd64.whl (12.6 MB)\n",
            "Using cached contourpy-1.3.1-cp313-cp313-win_amd64.whl (220 kB)\n",
            "Using cached cycler-0.12.1-py3-none-any.whl (8.3 kB)\n",
            "Using cached fonttools-4.55.3-cp313-cp313-win_amd64.whl (2.2 MB)\n",
            "Using cached kiwisolver-1.4.8-cp313-cp313-win_amd64.whl (71 kB)\n",
            "Using cached pandas-2.2.3-cp313-cp313-win_amd64.whl (11.5 MB)\n",
            "Installing collected packages: numpy, kiwisolver, fonttools, cycler, pandas, contourpy, matplotlib, seaborn\n",
            "Note: you may need to restart the kernel to use updated packages.\n"
          ]
        },
        {
          "name": "stderr",
          "output_type": "stream",
          "text": [
            "ERROR: Could not install packages due to an OSError: [WinError 32] The process cannot access the file because it is being used by another process: 'c:\\\\Users\\\\ELOHOME LTD\\\\AppData\\\\Local\\\\Programs\\\\Python\\\\Python313\\\\Lib\\\\site-packages\\\\fontTools\\\\cu2qu\\\\cu2qu.py'\n",
            "Consider using the `--user` option or check the permissions.\n",
            "\n"
          ]
        }
      ],
      "source": [
        "%pip install matplotlib seaborn numpy"
      ]
    },
    {
      "cell_type": "code",
      "execution_count": 48,
      "metadata": {
        "id": "F0wsol-JiZlG"
      },
      "outputs": [],
      "source": [
        "import numpy as np\n",
        "import matplotlib.pyplot as plt\n",
        "import seaborn as sns"
      ]
    },
    {
      "cell_type": "code",
      "execution_count": null,
      "metadata": {
        "id": "unk83VzViZlK"
      },
      "outputs": [],
      "source": [
        "sns.set()"
      ]
    },
    {
      "cell_type": "code",
      "execution_count": null,
      "metadata": {
        "colab": {
          "base_uri": "https://localhost:8080/",
          "height": 434
        },
        "id": "wADyW_y9iZlK",
        "outputId": "149979da-9582-43fa-8453-da2872754e23"
      },
      "outputs": [
        {
          "data": {
            "image/png": "[encoded data removed]",
            "text/plain": [
              "<Figure size 640x480 with 1 Axes>"
            ]
          },
          "metadata": {},
          "output_type": "display_data"
        }
      ],
      "source": [
        "plt.quiver(0,0,4,5)\n",
        "plt.xlim(-5,5)\n",
        "plt.ylim(-5,5)\n",
        "plt.show()"
      ]
    },
    {
      "cell_type": "code",
      "execution_count": null,
      "metadata": {
        "colab": {
          "base_uri": "https://localhost:8080/",
          "height": 440
        },
        "id": "F4KzCn9yjowZ",
        "outputId": "70f58386-202a-4199-8aca-1ca02a381e89"
      },
      "outputs": [
        {
          "data": {
            "image/png": "[encoded data removed]",
            "text/plain": [
              "<Figure size 640x480 with 1 Axes>"
            ]
          },
          "metadata": {},
          "output_type": "display_data"
        }
      ],
      "source": [
        "plt.quiver(1,0,4,5,angles='xy',scale_units='xy',scale=1,color='g')\n",
        "plt.quiver(1,0,-3,-6,angles='xy',scale_units='xy',scale=1,color='b')\n",
        "plt.quiver(1,0,2,3,angles='xy',scale_units='xy',scale=1,color='y')\n",
        "plt.xlim(-10,10)\n",
        "plt.ylim(-10,10)\n",
        "plt.show()\n"
      ]
    },
    {
      "cell_type": "markdown",
      "metadata": {
        "id": "3fackXrXmJRt"
      },
      "source": [
        "Addition of two vectors"
      ]
    },
    {
      "cell_type": "code",
      "execution_count": null,
      "metadata": {
        "colab": {
          "base_uri": "https://localhost:8080/"
        },
        "id": "pK_IQPzNmO7T",
        "outputId": "13ee26d8-eccc-435b-b53d-eda4b855dcb7"
      },
      "outputs": [
        {
          "name": "stdout",
          "output_type": "stream",
          "text": [
            "[0 0 5 1]\n"
          ]
        }
      ],
      "source": [
        "vector_1 = np.asarray([0,0,2,3])\n",
        "vector_2 = np.asarray([0,0,3,-2])\n",
        "sum = vector_1+vector_2\n",
        "\n",
        "print(sum)"
      ]
    },
    {
      "cell_type": "code",
      "execution_count": null,
      "metadata": {
        "colab": {
          "base_uri": "https://localhost:8080/",
          "height": 440
        },
        "id": "zLvzC0wfnF5o",
        "outputId": "625d9634-87e2-44dc-a3c6-bd7c55d255d7"
      },
      "outputs": [
        {
          "data": {
            "image/png": "[encoded data removed]",
            "text/plain": [
              "<Figure size 640x480 with 1 Axes>"
            ]
          },
          "metadata": {},
          "output_type": "display_data"
        }
      ],
      "source": [
        "plt.quiver(0,0,2,3,angles='xy',scale_units='xy',scale=1,color='g')\n",
        "plt.quiver(0,0,3,-2,angles='xy',scale_units='xy',scale=1,color='b')\n",
        "plt.quiver(0,0,5,1,angles='xy',scale_units='xy',scale=1,color='y')\n",
        "plt.xlim(-5,6)\n",
        "plt.ylim(-6,6)\n",
        "plt.show()"
      ]
    },
    {
      "cell_type": "markdown",
      "metadata": {
        "id": "cosBnEFbount"
      },
      "source": [
        "Substraction of 2 vectors"
      ]
    },
    {
      "cell_type": "code",
      "execution_count": null,
      "metadata": {
        "colab": {
          "base_uri": "https://localhost:8080/"
        },
        "id": "dETuhmoGozlm",
        "outputId": "98f360c1-82e8-43f1-f97e-ec82cd748aab"
      },
      "outputs": [
        {
          "name": "stdout",
          "output_type": "stream",
          "text": [
            "[ 0  0 -1  5]\n"
          ]
        }
      ],
      "source": [
        "vector_1 = np.asarray([0,0,2,3])\n",
        "vector_2 = np.asarray([0,0,3,-2])\n",
        "diff = vector_1 - vector_2\n",
        "\n",
        "print(diff)"
      ]
    },
    {
      "cell_type": "code",
      "execution_count": null,
      "metadata": {
        "colab": {
          "base_uri": "https://localhost:8080/",
          "height": 440
        },
        "id": "0qjubmrZpCwC",
        "outputId": "b7b59ef9-da63-437e-bd32-b4b3a9292221"
      },
      "outputs": [
        {
          "data": {
            "image/png": "[encoded data removed]",
            "text/plain": [
              "<Figure size 640x480 with 1 Axes>"
            ]
          },
          "metadata": {},
          "output_type": "display_data"
        }
      ],
      "source": [
        "plt.quiver(0,0,2,3,angles='xy',scale_units='xy',scale=1,color='g')\n",
        "plt.quiver(0,0,3,-2,angles='xy',scale_units='xy',scale=1,color='b')\n",
        "plt.quiver(0,0,-1,5,angles='xy',scale_units='xy',scale=1,color='y')\n",
        "plt.xlim(-5,6)\n",
        "plt.ylim(-6,6)\n",
        "plt.show()"
      ]
    },
    {
      "cell_type": "markdown",
      "metadata": {
        "id": "g0k1QJUopLTw"
      },
      "source": [
        "Multiplying a vector by a scalar"
      ]
    },
    {
      "cell_type": "code",
      "execution_count": null,
      "metadata": {
        "colab": {
          "base_uri": "https://localhost:8080/"
        },
        "id": "lDptwRqbpRvS",
        "outputId": "a12deb77-0f16-4909-83b5-7941b606948b"
      },
      "outputs": [
        {
          "name": "stdout",
          "output_type": "stream",
          "text": [
            "Vector * 2  [0 0 4 6]\n",
            "Vector * -0.5  [-0.  -0.  -1.  -1.5]\n"
          ]
        }
      ],
      "source": [
        "vector_1 = np.asarray([0,0,2,3])\n",
        "vector_2 = 2 * vector_1\n",
        "vector_3=-0.5 * vector_1\n",
        "print(\"Vector * 2 \",vector_2)\n",
        "print(\"Vector * -0.5 \",vector_3)"
      ]
    },
    {
      "cell_type": "code",
      "execution_count": null,
      "metadata": {
        "colab": {
          "base_uri": "https://localhost:8080/",
          "height": 440
        },
        "id": "yIlhuYKnpezq",
        "outputId": "4e32df14-a091-4798-9145-9f0ece0db4ad"
      },
      "outputs": [
        {
          "data": {
            "image/png": "[encoded data removed]",
            "text/plain": [
              "<Figure size 640x480 with 1 Axes>"
            ]
          },
          "metadata": {},
          "output_type": "display_data"
        }
      ],
      "source": [
        "plt.quiver(0,0,4,6,angles='xy',scale_units='xy',scale=1,color='y')\n",
        "plt.quiver(0,0,2,3,angles='xy',scale_units='xy',scale=1,color='g')\n",
        "plt.quiver(0,0,-1,-1.5,angles='xy',scale_units='xy',scale=1,color='r')\n",
        "plt.xlim(-5,6)\n",
        "plt.ylim(-6,6)\n",
        "plt.show()"
      ]
    },
    {
      "cell_type": "markdown",
      "metadata": {
        "id": "Z4X7C78oShh8"
      },
      "source": [
        "Vector Operations"
      ]
    },
    {
      "cell_type": "markdown",
      "metadata": {
        "id": "gVOcV1UASt1j"
      },
      "source": [
        "1. Dot Product of 2 vectors"
      ]
    },
    {
      "cell_type": "code",
      "execution_count": null,
      "metadata": {
        "colab": {
          "base_uri": "https://localhost:8080/"
        },
        "id": "Yhax_WbMSnHo",
        "outputId": "accba5e1-d81f-4062-f2aa-4ced80d4d7d5"
      },
      "outputs": [
        {
          "name": "stdout",
          "output_type": "stream",
          "text": [
            "20\n"
          ]
        }
      ],
      "source": [
        "a=np.array([2,3])\n",
        "b=np.array([4,4])\n",
        "a_dot_b=np.dot(a,b)\n",
        "print(a_dot_b)"
      ]
    },
    {
      "cell_type": "code",
      "execution_count": null,
      "metadata": {
        "id": "-AJQ1-CzhvSI",
        "outputId": "f00b96db-f088-4f81-93f4-27f0b832765e"
      },
      "outputs": [
        {
          "name": "stdout",
          "output_type": "stream",
          "text": [
            "4980\n"
          ]
        }
      ],
      "source": [
        "c = np.array([40,20,35])\n",
        "d = np.array([53,24,68])\n",
        "c_dot_d = np.dot(c,d)\n",
        "print(c_dot_d)"
      ]
    },
    {
      "cell_type": "markdown",
      "source": [
        "2. Cross Product of 2 vectors"
      ],
      "metadata": {
        "id": "1NXGcuN2iWQt"
      }
    },
    {
      "cell_type": "code",
      "source": [
        "a = np.array([2,3,1])\n",
        "b = np.array([4,4,1])\n",
        "a_cross_b = np.cross(a,b)\n",
        "print(a_cross_b)"
      ],
      "metadata": {
        "colab": {
          "base_uri": "https://localhost:8080/"
        },
        "id": "PSZd1I91iZCs",
        "outputId": "b17fa650-9ab6-4a5b-f8c9-0bb4a0deda84"
      },
      "execution_count": 50,
      "outputs": [
        {
          "output_type": "stream",
          "name": "stdout",
          "text": [
            "[-1  2 -4]\n"
          ]
        }
      ]
    },
    {
      "cell_type": "markdown",
      "source": [
        "3. Projection of a vector"
      ],
      "metadata": {
        "id": "wgU-eV8PkljX"
      }
    },
    {
      "cell_type": "code",
      "source": [
        "a = np.array([2,5,2])\n",
        "v = np.array([8, -6,8])\n",
        "\n",
        "#magnitude of \"v\" vector\n",
        "v_magnitude=np.sqrt(np.sum(v**2))\n",
        "\n",
        "# dot product of a and v\n",
        "a_dot_v =np.dot(a,v)\n",
        "\n",
        "projection = (a_dot_v/v_magnitude**2)*v\n",
        "\n",
        "print('Projection of a on v',projection)"
      ],
      "metadata": {
        "colab": {
          "base_uri": "https://localhost:8080/"
        },
        "id": "qbKE8-1-krzM",
        "outputId": "603d237c-de10-4ddb-8179-6742893dd05a"
      },
      "execution_count": 55,
      "outputs": [
        {
          "output_type": "stream",
          "name": "stdout",
          "text": [
            "Projection of a on v [ 0.09756098 -0.07317073  0.09756098]\n"
          ]
        }
      ]
    }
  ],
  "metadata": {
    "colab": {
      "provenance": []
    },
    "kernelspec": {
      "display_name": "Python 3",
      "language": "python",
      "name": "python3"
    },
    "language_info": {
      "codemirror_mode": {
        "name": "ipython",
        "version": 3
      },
      "file_extension": ".py",
      "mimetype": "text/x-python",
      "name": "python",
      "nbconvert_exporter": "python",
      "pygments_lexer": "ipython3",
      "version": "3.13.1"
    }
  },
  "nbformat": 4,
  "nbformat_minor": 0
}