{
  "cells": [
    {
      "cell_type": "code",
      "source": [
        "import numpy as np\n",
        "import matplotlib.pyplot as plt\n"
      ],
      "metadata": {
        "id": "Az7kc3m5LLx3"
      },
      "execution_count": null,
      "outputs": []
    },
    {
      "cell_type": "markdown",
      "source": [
        "Matrices Operations"
      ],
      "metadata": {
        "id": "FAagbByHLUjh"
      }
    },
    {
      "cell_type": "markdown",
      "source": [
        "1. Addition and Substraction"
      ],
      "metadata": {
        "id": "fHUyIXLsLXgt"
      }
    },
    {
      "cell_type": "markdown",
      "source": [
        "- Rule: Only Matrices with the same shape are allowed to add  and substract"
      ],
      "metadata": {
        "id": "U3eMzhSwLbJk"
      }
    },
    {
      "cell_type": "code",
      "source": [
        "# addition of the same shape\n",
        "a=np.array(([1,3,5],[6,7,8]))\n",
        "b=np.array(([1,3,5],[6,7,8]))\n",
        "print(a+b)"
      ],
      "metadata": {
        "id": "C-4P1O5vLjKF",
        "outputId": "937481a9-c6fe-4944-c3d9-09a49ccef8bd",
        "colab": {
          "base_uri": "https://localhost:8080/"
        }
      },
      "execution_count": 9,
      "outputs": [
        {
          "output_type": "stream",
          "name": "stdout",
          "text": [
            "[[ 2  6 10]\n",
            " [12 14 16]]\n"
          ]
        }
      ]
    },
    {
      "cell_type": "code",
      "source": [
        "matrix_a=np.random.randint(1,10,size=(3,3))\n",
        "matrix_b=np.random.randint(1,10,size=(3,3))\n",
        "print(matrix_a)\n",
        "print(matrix_b)\n",
        "sum = matrix_a + matrix_b\n",
        "print(sum)"
      ],
      "metadata": {
        "id": "w-54yf8JL1xi",
        "outputId": "29b0b788-4136-4d3c-c31a-01162a8a9171",
        "colab": {
          "base_uri": "https://localhost:8080/"
        }
      },
      "execution_count": 10,
      "outputs": [
        {
          "output_type": "stream",
          "name": "stdout",
          "text": [
            "[[1 7 5]\n",
            " [4 8 6]\n",
            " [8 6 3]]\n",
            "[[6 5 6]\n",
            " [2 6 2]\n",
            " [8 8 4]]\n",
            "[[ 7 12 11]\n",
            " [ 6 14  8]\n",
            " [16 14  7]]\n"
          ]
        }
      ]
    },
    {
      "cell_type": "code",
      "source": [
        "matrix_a=np.random.randint(1,10,size=(4,3))\n",
        "matrix_b=np.random.randint(1,10,size=(3,3))\n",
        "print(matrix_a)\n",
        "print(matrix_b)\n",
        "sum = matrix_a + matrix_b\n",
        "print(sum)"
      ],
      "metadata": {
        "id": "AYuZi89CMCmM",
        "outputId": "0fa29eca-1f9b-4860-958b-c74a7f2c32b6",
        "colab": {
          "base_uri": "https://localhost:8080/",
          "height": 315
        }
      },
      "execution_count": 11,
      "outputs": [
        {
          "output_type": "stream",
          "name": "stdout",
          "text": [
            "[[3 3 6]\n",
            " [4 7 6]\n",
            " [8 7 9]\n",
            " [7 7 5]]\n",
            "[[9 6 4]\n",
            " [3 6 2]\n",
            " [3 4 7]]\n"
          ]
        },
        {
          "output_type": "error",
          "ename": "ValueError",
          "evalue": "operands could not be broadcast together with shapes (4,3) (3,3) ",
          "traceback": [
            "\u001b[0;31m---------------------------------------------------------------------------\u001b[0m",
            "\u001b[0;31mValueError\u001b[0m                                Traceback (most recent call last)",
            "\u001b[0;32m<ipython-input-11-90fc088512fd>\u001b[0m in \u001b[0;36m<cell line: 5>\u001b[0;34m()\u001b[0m\n\u001b[1;32m      3\u001b[0m \u001b[0mprint\u001b[0m\u001b[0;34m(\u001b[0m\u001b[0mmatrix_a\u001b[0m\u001b[0;34m)\u001b[0m\u001b[0;34m\u001b[0m\u001b[0;34m\u001b[0m\u001b[0m\n\u001b[1;32m      4\u001b[0m \u001b[0mprint\u001b[0m\u001b[0;34m(\u001b[0m\u001b[0mmatrix_b\u001b[0m\u001b[0;34m)\u001b[0m\u001b[0;34m\u001b[0m\u001b[0;34m\u001b[0m\u001b[0m\n\u001b[0;32m----> 5\u001b[0;31m \u001b[0msum\u001b[0m \u001b[0;34m=\u001b[0m \u001b[0mmatrix_a\u001b[0m \u001b[0;34m+\u001b[0m \u001b[0mmatrix_b\u001b[0m\u001b[0;34m\u001b[0m\u001b[0;34m\u001b[0m\u001b[0m\n\u001b[0m\u001b[1;32m      6\u001b[0m \u001b[0mprint\u001b[0m\u001b[0;34m(\u001b[0m\u001b[0msum\u001b[0m\u001b[0;34m)\u001b[0m\u001b[0;34m\u001b[0m\u001b[0;34m\u001b[0m\u001b[0m\n",
            "\u001b[0;31mValueError\u001b[0m: operands could not be broadcast together with shapes (4,3) (3,3) "
          ]
        }
      ]
    },
    {
      "cell_type": "code",
      "source": [
        "# Substaction\n",
        "matrix_a=np.random.randint(1,10,size=(3,3))\n",
        "matrix_b=np.random.randint(1,10,size=(3,3))\n",
        "print(matrix_a)\n",
        "print(matrix_b)\n",
        "diff = matrix_a - matrix_b\n",
        "print(diff)"
      ],
      "metadata": {
        "id": "BSMuCD2gMIqC",
        "outputId": "44d68a1c-f29a-4660-9342-c4f44ed7bc0f",
        "colab": {
          "base_uri": "https://localhost:8080/"
        }
      },
      "execution_count": 12,
      "outputs": [
        {
          "output_type": "stream",
          "name": "stdout",
          "text": [
            "[[5 5 1]\n",
            " [1 3 1]\n",
            " [8 5 7]]\n",
            "[[6 1 4]\n",
            " [5 3 3]\n",
            " [9 3 4]]\n",
            "[[-1  4 -3]\n",
            " [-4  0 -2]\n",
            " [-1  2  3]]\n"
          ]
        }
      ]
    },
    {
      "cell_type": "code",
      "source": [
        "matrix_a=np.random.randint(1,10,size=(3,6))\n",
        "matrix_b=np.random.randint(1,10,size=(3,3))\n",
        "print(matrix_a)\n",
        "print(matrix_b)\n",
        "diff = matrix_a - matrix_b\n",
        "print(diff)"
      ],
      "metadata": {
        "id": "0BebyQYgMPW9",
        "outputId": "d80d3c47-9b2b-4622-f60f-6a5275db3fca",
        "colab": {
          "base_uri": "https://localhost:8080/",
          "height": 297
        }
      },
      "execution_count": 13,
      "outputs": [
        {
          "output_type": "stream",
          "name": "stdout",
          "text": [
            "[[9 5 9 6 9 4]\n",
            " [4 7 7 7 8 6]\n",
            " [4 6 9 2 6 4]]\n",
            "[[6 5 2]\n",
            " [3 3 9]\n",
            " [5 6 8]]\n"
          ]
        },
        {
          "output_type": "error",
          "ename": "ValueError",
          "evalue": "operands could not be broadcast together with shapes (3,6) (3,3) ",
          "traceback": [
            "\u001b[0;31m---------------------------------------------------------------------------\u001b[0m",
            "\u001b[0;31mValueError\u001b[0m                                Traceback (most recent call last)",
            "\u001b[0;32m<ipython-input-13-6d3694444688>\u001b[0m in \u001b[0;36m<cell line: 5>\u001b[0;34m()\u001b[0m\n\u001b[1;32m      3\u001b[0m \u001b[0mprint\u001b[0m\u001b[0;34m(\u001b[0m\u001b[0mmatrix_a\u001b[0m\u001b[0;34m)\u001b[0m\u001b[0;34m\u001b[0m\u001b[0;34m\u001b[0m\u001b[0m\n\u001b[1;32m      4\u001b[0m \u001b[0mprint\u001b[0m\u001b[0;34m(\u001b[0m\u001b[0mmatrix_b\u001b[0m\u001b[0;34m)\u001b[0m\u001b[0;34m\u001b[0m\u001b[0;34m\u001b[0m\u001b[0m\n\u001b[0;32m----> 5\u001b[0;31m \u001b[0mdiff\u001b[0m \u001b[0;34m=\u001b[0m \u001b[0mmatrix_a\u001b[0m \u001b[0;34m-\u001b[0m \u001b[0mmatrix_b\u001b[0m\u001b[0;34m\u001b[0m\u001b[0;34m\u001b[0m\u001b[0m\n\u001b[0m\u001b[1;32m      6\u001b[0m \u001b[0mprint\u001b[0m\u001b[0;34m(\u001b[0m\u001b[0mdiff\u001b[0m\u001b[0;34m)\u001b[0m\u001b[0;34m\u001b[0m\u001b[0;34m\u001b[0m\u001b[0m\n",
            "\u001b[0;31mValueError\u001b[0m: operands could not be broadcast together with shapes (3,6) (3,3) "
          ]
        }
      ]
    }
  ],
  "metadata": {
    "kernelspec": {
      "display_name": "Python 3",
      "language": "python",
      "name": "python3"
    },
    "language_info": {
      "name": "python",
      "version": "3.13.1"
    },
    "colab": {
      "provenance": []
    }
  },
  "nbformat": 4,
  "nbformat_minor": 0
}