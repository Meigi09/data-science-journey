{
  "cells": [
    {
      "cell_type": "code",
      "source": [
        "import numpy as np\n",
        "import matplotlib.pyplot as plt\n"
      ],
      "metadata": {
        "id": "Az7kc3m5LLx3"
      },
      "execution_count": null,
      "outputs": []
    },
    {
      "cell_type": "markdown",
      "source": [
        "Matrices Operations"
      ],
      "metadata": {
        "id": "FAagbByHLUjh"
      }
    },
    {
      "cell_type": "markdown",
      "source": [
        "1. Addition and Substraction"
      ],
      "metadata": {
        "id": "fHUyIXLsLXgt"
      }
    },
    {
      "cell_type": "markdown",
      "source": [
        "- Rule: Only Matrices with the same shape are allowed to add  and substract"
      ],
      "metadata": {
        "id": "U3eMzhSwLbJk"
      }
    },
    {
      "cell_type": "code",
      "source": [
        "# addition of the same shape\n",
        "a=np.array(([1,3,5],[6,7,8]))\n",
        "b=np.array(([1,3,5],[6,7,8]))\n",
        "print(a+b)"
      ],
      "metadata": {
        "colab": {
          "base_uri": "https://localhost:8080/"
        },
        "id": "C-4P1O5vLjKF",
        "outputId": "937481a9-c6fe-4944-c3d9-09a49ccef8bd"
      },
      "execution_count": 9,
      "outputs": [
        {
          "output_type": "stream",
          "name": "stdout",
          "text": [
            "[[ 2  6 10]\n",
            " [12 14 16]]\n"
          ]
        }
      ]
    },
    {
      "cell_type": "code",
      "source": [
        "matrix_a=np.random.randint(1,10,size=(3,3))\n",
        "matrix_b=np.random.randint(1,10,size=(3,3))\n",
        "print(matrix_a)\n",
        "print(matrix_b)\n",
        "sum = matrix_a + matrix_b\n",
        "print(sum)"
      ],
      "metadata": {
        "colab": {
          "base_uri": "https://localhost:8080/"
        },
        "id": "w-54yf8JL1xi",
        "outputId": "29b0b788-4136-4d3c-c31a-01162a8a9171"
      },
      "execution_count": 10,
      "outputs": [
        {
          "output_type": "stream",
          "name": "stdout",
          "text": [
            "[[1 7 5]\n",
            " [4 8 6]\n",
            " [8 6 3]]\n",
            "[[6 5 6]\n",
            " [2 6 2]\n",
            " [8 8 4]]\n",
            "[[ 7 12 11]\n",
            " [ 6 14  8]\n",
            " [16 14  7]]\n"
          ]
        }
      ]
    },
    {
      "cell_type": "code",
      "source": [
        "# adding two matrices with different shapes\n",
        "matrix_a=np.random.randint(1,10,size=(4,3))\n",
        "matrix_b=np.random.randint(1,10,size=(3,3))\n",
        "print(matrix_a)\n",
        "print(matrix_b)\n",
        "sum = matrix_a + matrix_b\n",
        "print(sum)"
      ],
      "metadata": {
        "colab": {
          "base_uri": "https://localhost:8080/",
          "height": 315
        },
        "id": "AYuZi89CMCmM",
        "outputId": "0fa29eca-1f9b-4860-958b-c74a7f2c32b6"
      },
      "execution_count": 11,
      "outputs": [
        {
          "output_type": "stream",
          "name": "stdout",
          "text": [
            "[[3 3 6]\n",
            " [4 7 6]\n",
            " [8 7 9]\n",
            " [7 7 5]]\n",
            "[[9 6 4]\n",
            " [3 6 2]\n",
            " [3 4 7]]\n"
          ]
        },
        {
          "output_type": "error",
          "ename": "ValueError",
          "evalue": "operands could not be broadcast together with shapes (4,3) (3,3) ",
          "traceback": [
            "\u001b[0;31m---------------------------------------------------------------------------\u001b[0m",
            "\u001b[0;31mValueError\u001b[0m                                Traceback (most recent call last)",
            "\u001b[0;32m<ipython-input-11-90fc088512fd>\u001b[0m in \u001b[0;36m<cell line: 5>\u001b[0;34m()\u001b[0m\n\u001b[1;32m      3\u001b[0m \u001b[0mprint\u001b[0m\u001b[0;34m(\u001b[0m\u001b[0mmatrix_a\u001b[0m\u001b[0;34m)\u001b[0m\u001b[0;34m\u001b[0m\u001b[0;34m\u001b[0m\u001b[0m\n\u001b[1;32m      4\u001b[0m \u001b[0mprint\u001b[0m\u001b[0;34m(\u001b[0m\u001b[0mmatrix_b\u001b[0m\u001b[0;34m)\u001b[0m\u001b[0;34m\u001b[0m\u001b[0;34m\u001b[0m\u001b[0m\n\u001b[0;32m----> 5\u001b[0;31m \u001b[0msum\u001b[0m \u001b[0;34m=\u001b[0m \u001b[0mmatrix_a\u001b[0m \u001b[0;34m+\u001b[0m \u001b[0mmatrix_b\u001b[0m\u001b[0;34m\u001b[0m\u001b[0;34m\u001b[0m\u001b[0m\n\u001b[0m\u001b[1;32m      6\u001b[0m \u001b[0mprint\u001b[0m\u001b[0;34m(\u001b[0m\u001b[0msum\u001b[0m\u001b[0;34m)\u001b[0m\u001b[0;34m\u001b[0m\u001b[0;34m\u001b[0m\u001b[0m\n",
            "\u001b[0;31mValueError\u001b[0m: operands could not be broadcast together with shapes (4,3) (3,3) "
          ]
        }
      ]
    },
    {
      "cell_type": "code",
      "source": [
        "# Substaction\n",
        "matrix_a=np.random.randint(1,10,size=(3,3))\n",
        "matrix_b=np.random.randint(1,10,size=(3,3))\n",
        "print(matrix_a)\n",
        "print(matrix_b)\n",
        "diff = matrix_a - matrix_b\n",
        "print(diff)"
      ],
      "metadata": {
        "colab": {
          "base_uri": "https://localhost:8080/"
        },
        "id": "BSMuCD2gMIqC",
        "outputId": "44d68a1c-f29a-4660-9342-c4f44ed7bc0f"
      },
      "execution_count": 12,
      "outputs": [
        {
          "output_type": "stream",
          "name": "stdout",
          "text": [
            "[[5 5 1]\n",
            " [1 3 1]\n",
            " [8 5 7]]\n",
            "[[6 1 4]\n",
            " [5 3 3]\n",
            " [9 3 4]]\n",
            "[[-1  4 -3]\n",
            " [-4  0 -2]\n",
            " [-1  2  3]]\n"
          ]
        }
      ]
    },
    {
      "cell_type": "code",
      "source": [
        "# substracting two matrices with different shapes\n",
        "matrix_a=np.random.randint(1,10,size=(3,6))\n",
        "matrix_b=np.random.randint(1,10,size=(3,3))\n",
        "print(matrix_a)\n",
        "print(matrix_b)\n",
        "diff = matrix_a - matrix_b\n",
        "print(diff)"
      ],
      "metadata": {
        "colab": {
          "base_uri": "https://localhost:8080/",
          "height": 297
        },
        "id": "0BebyQYgMPW9",
        "outputId": "d80d3c47-9b2b-4622-f60f-6a5275db3fca"
      },
      "execution_count": 13,
      "outputs": [
        {
          "output_type": "stream",
          "name": "stdout",
          "text": [
            "[[9 5 9 6 9 4]\n",
            " [4 7 7 7 8 6]\n",
            " [4 6 9 2 6 4]]\n",
            "[[6 5 2]\n",
            " [3 3 9]\n",
            " [5 6 8]]\n"
          ]
        },
        {
          "output_type": "error",
          "ename": "ValueError",
          "evalue": "operands could not be broadcast together with shapes (3,6) (3,3) ",
          "traceback": [
            "\u001b[0;31m---------------------------------------------------------------------------\u001b[0m",
            "\u001b[0;31mValueError\u001b[0m                                Traceback (most recent call last)",
            "\u001b[0;32m<ipython-input-13-6d3694444688>\u001b[0m in \u001b[0;36m<cell line: 5>\u001b[0;34m()\u001b[0m\n\u001b[1;32m      3\u001b[0m \u001b[0mprint\u001b[0m\u001b[0;34m(\u001b[0m\u001b[0mmatrix_a\u001b[0m\u001b[0;34m)\u001b[0m\u001b[0;34m\u001b[0m\u001b[0;34m\u001b[0m\u001b[0m\n\u001b[1;32m      4\u001b[0m \u001b[0mprint\u001b[0m\u001b[0;34m(\u001b[0m\u001b[0mmatrix_b\u001b[0m\u001b[0;34m)\u001b[0m\u001b[0;34m\u001b[0m\u001b[0;34m\u001b[0m\u001b[0m\n\u001b[0;32m----> 5\u001b[0;31m \u001b[0mdiff\u001b[0m \u001b[0;34m=\u001b[0m \u001b[0mmatrix_a\u001b[0m \u001b[0;34m-\u001b[0m \u001b[0mmatrix_b\u001b[0m\u001b[0;34m\u001b[0m\u001b[0;34m\u001b[0m\u001b[0m\n\u001b[0m\u001b[1;32m      6\u001b[0m \u001b[0mprint\u001b[0m\u001b[0;34m(\u001b[0m\u001b[0mdiff\u001b[0m\u001b[0;34m)\u001b[0m\u001b[0;34m\u001b[0m\u001b[0;34m\u001b[0m\u001b[0m\n",
            "\u001b[0;31mValueError\u001b[0m: operands could not be broadcast together with shapes (3,6) (3,3) "
          ]
        }
      ]
    },
    {
      "cell_type": "code",
      "source": [
        "matrix_a=np.random.randint(1,10,size=(3,3))\n",
        "matrix_b=np.random.randint(1,10,size=(3,3))\n",
        "print(matrix_a)\n",
        "print(matrix_b)\n",
        "diff = np.subtract(matrix_a,matrix_b)\n",
        "print(diff)"
      ],
      "metadata": {
        "id": "6wRncry_MY49",
        "outputId": "f9c961d5-0ee7-4374-ca88-eb55a5497fed",
        "colab": {
          "base_uri": "https://localhost:8080/"
        }
      },
      "execution_count": 14,
      "outputs": [
        {
          "output_type": "stream",
          "name": "stdout",
          "text": [
            "[[3 6 4]\n",
            " [4 2 3]\n",
            " [7 1 4]]\n",
            "[[9 3 9]\n",
            " [1 3 8]\n",
            " [6 7 4]]\n",
            "[[-6  3 -5]\n",
            " [ 3 -1 -5]\n",
            " [ 1 -6  0]]\n"
          ]
        }
      ]
    },
    {
      "cell_type": "markdown",
      "source": [
        "2. Multiplication"
      ],
      "metadata": {
        "id": "snKzpjcuMv-A"
      }
    },
    {
      "cell_type": "markdown",
      "source": [
        "- Rule: Number of cols in the first should be equal to number of rows"
      ],
      "metadata": {
        "id": "EicXjtzGNWXf"
      }
    },
    {
      "cell_type": "markdown",
      "source": [
        "* By Scalar"
      ],
      "metadata": {
        "id": "VUiQQt2JM6M6"
      }
    },
    {
      "cell_type": "code",
      "source": [
        "x=5\n",
        "matrix_a=np.random.randint(1,10,size=(3,3))\n",
        "print('Matrix A:',matrix_a)\n",
        "print('Scalar:',x)\n",
        "print('Matrix X Scalar: ',x*matrix_a)"
      ],
      "metadata": {
        "id": "cPqZv_isMu7N",
        "outputId": "43821e96-1fd6-4d36-b4e2-455feb4830b0",
        "colab": {
          "base_uri": "https://localhost:8080/"
        }
      },
      "execution_count": 16,
      "outputs": [
        {
          "output_type": "stream",
          "name": "stdout",
          "text": [
            "Matrix A [[8 3 6]\n",
            " [3 3 1]\n",
            " [9 2 5]]\n",
            "Scalar 5\n",
            "Matrix X Scalar  [[40 15 30]\n",
            " [15 15  5]\n",
            " [45 10 25]]\n"
          ]
        }
      ]
    },
    {
      "cell_type": "markdown",
      "source": [
        "* By another matrix"
      ],
      "metadata": {
        "id": "_AiUyCFfNSVo"
      }
    },
    {
      "cell_type": "code",
      "source": [
        "matrix_a=np.random.randint(1,10,size=(5,3))\n",
        "matrix_b=np.random.randint(1,10,size=(3,2))\n",
        "print('Matrix A:',matrix_a)\n",
        "print('Matrix B:',matrix_b)\n",
        "product=np.dot(matrix_a,matrix_b)\n",
        "print('Matrix Multiplication: ',product)"
      ],
      "metadata": {
        "id": "CG0d1LXANgEl",
        "outputId": "f857aee0-de02-4bf7-9cc5-908f9695fabc",
        "colab": {
          "base_uri": "https://localhost:8080/"
        }
      },
      "execution_count": 27,
      "outputs": [
        {
          "output_type": "stream",
          "name": "stdout",
          "text": [
            "Matrix A: [[2 2 9]\n",
            " [3 5 6]\n",
            " [8 8 5]\n",
            " [5 9 2]\n",
            " [4 1 2]]\n",
            "Matrix B: [[9 1]\n",
            " [9 7]\n",
            " [2 1]]\n",
            "Matrix Multiplication:  [[ 54  25]\n",
            " [ 84  44]\n",
            " [154  69]\n",
            " [130  70]\n",
            " [ 49  13]]\n"
          ]
        }
      ]
    },
    {
      "cell_type": "code",
      "source": [
        "matrix_a=np.random.randint(1,10,size=(5,3))\n",
        "matrix_b=np.random.randint(1,10,size=(3,2))\n",
        "print('Matrix A:',matrix_a)\n",
        "print('Matrix B:',matrix_b)\n",
        "product=np.multiply(matrix_a,matrix_b)\n",
        "print('Matrix Multiplication: ',product)"
      ],
      "metadata": {
        "id": "lUjtSnb8PKA0",
        "outputId": "ce5c69db-adcf-497f-d3d8-85e1762e17d5",
        "colab": {
          "base_uri": "https://localhost:8080/",
          "height": 332
        }
      },
      "execution_count": 26,
      "outputs": [
        {
          "output_type": "stream",
          "name": "stdout",
          "text": [
            "Matrix A: [[6 9 6]\n",
            " [5 7 9]\n",
            " [5 3 7]\n",
            " [3 7 6]\n",
            " [5 3 2]]\n",
            "Matrix B: [[7 9]\n",
            " [5 2]\n",
            " [9 3]]\n"
          ]
        },
        {
          "output_type": "error",
          "ename": "ValueError",
          "evalue": "operands could not be broadcast together with shapes (5,3) (3,2) ",
          "traceback": [
            "\u001b[0;31m---------------------------------------------------------------------------\u001b[0m",
            "\u001b[0;31mValueError\u001b[0m                                Traceback (most recent call last)",
            "\u001b[0;32m<ipython-input-26-281fa3e69587>\u001b[0m in \u001b[0;36m<cell line: 5>\u001b[0;34m()\u001b[0m\n\u001b[1;32m      3\u001b[0m \u001b[0mprint\u001b[0m\u001b[0;34m(\u001b[0m\u001b[0;34m'Matrix A:'\u001b[0m\u001b[0;34m,\u001b[0m\u001b[0mmatrix_a\u001b[0m\u001b[0;34m)\u001b[0m\u001b[0;34m\u001b[0m\u001b[0;34m\u001b[0m\u001b[0m\n\u001b[1;32m      4\u001b[0m \u001b[0mprint\u001b[0m\u001b[0;34m(\u001b[0m\u001b[0;34m'Matrix B:'\u001b[0m\u001b[0;34m,\u001b[0m\u001b[0mmatrix_b\u001b[0m\u001b[0;34m)\u001b[0m\u001b[0;34m\u001b[0m\u001b[0;34m\u001b[0m\u001b[0m\n\u001b[0;32m----> 5\u001b[0;31m \u001b[0mproduct\u001b[0m\u001b[0;34m=\u001b[0m\u001b[0mnp\u001b[0m\u001b[0;34m.\u001b[0m\u001b[0mmultiply\u001b[0m\u001b[0;34m(\u001b[0m\u001b[0mmatrix_a\u001b[0m\u001b[0;34m,\u001b[0m\u001b[0mmatrix_b\u001b[0m\u001b[0;34m)\u001b[0m\u001b[0;34m\u001b[0m\u001b[0;34m\u001b[0m\u001b[0m\n\u001b[0m\u001b[1;32m      6\u001b[0m \u001b[0mprint\u001b[0m\u001b[0;34m(\u001b[0m\u001b[0;34m'Matrix Multiplication: '\u001b[0m\u001b[0;34m,\u001b[0m\u001b[0mproduct\u001b[0m\u001b[0;34m)\u001b[0m\u001b[0;34m\u001b[0m\u001b[0;34m\u001b[0m\u001b[0m\n",
            "\u001b[0;31mValueError\u001b[0m: operands could not be broadcast together with shapes (5,3) (3,2) "
          ]
        }
      ]
    }
  ],
  "metadata": {
    "kernelspec": {
      "display_name": "Python 3",
      "language": "python",
      "name": "python3"
    },
    "language_info": {
      "name": "python",
      "version": "3.13.1"
    },
    "colab": {
      "provenance": []
    }
  },
  "nbformat": 4,
  "nbformat_minor": 0
}