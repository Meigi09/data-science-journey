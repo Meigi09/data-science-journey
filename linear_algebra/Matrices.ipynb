{
  "cells": [
    {
      "cell_type": "code",
      "execution_count": 1,
      "metadata": {
        "id": "Az7kc3m5LLx3"
      },
      "outputs": [],
      "source": [
        "import numpy as np\n",
        "import matplotlib.pyplot as plt\n"
      ]
    },
    {
      "cell_type": "markdown",
      "metadata": {
        "id": "FAagbByHLUjh"
      },
      "source": [
        "Matrices Operations"
      ]
    },
    {
      "cell_type": "markdown",
      "metadata": {
        "id": "fHUyIXLsLXgt"
      },
      "source": [
        "1. Addition and Substraction"
      ]
    },
    {
      "cell_type": "markdown",
      "metadata": {
        "id": "U3eMzhSwLbJk"
      },
      "source": [
        "- Rule: Only Matrices with the same shape are allowed to add  and substract"
      ]
    },
    {
      "cell_type": "code",
      "execution_count": 2,
      "metadata": {
        "colab": {
          "base_uri": "https://localhost:8080/"
        },
        "id": "C-4P1O5vLjKF",
        "outputId": "937481a9-c6fe-4944-c3d9-09a49ccef8bd"
      },
      "outputs": [
        {
          "name": "stdout",
          "output_type": "stream",
          "text": [
            "[[ 2  6 10]\n",
            " [12 14 16]]\n"
          ]
        }
      ],
      "source": [
        "# addition of the same shape\n",
        "a=np.array(([1,3,5],[6,7,8]))\n",
        "b=np.array(([1,3,5],[6,7,8]))\n",
        "print(a+b)"
      ]
    },
    {
      "cell_type": "code",
      "execution_count": 3,
      "metadata": {
        "colab": {
          "base_uri": "https://localhost:8080/"
        },
        "id": "w-54yf8JL1xi",
        "outputId": "29b0b788-4136-4d3c-c31a-01162a8a9171"
      },
      "outputs": [
        {
          "name": "stdout",
          "output_type": "stream",
          "text": [
            "[[7 2 8]\n",
            " [4 2 8]\n",
            " [5 7 8]]\n",
            "[[1 9 4]\n",
            " [5 6 3]\n",
            " [7 5 3]]\n",
            "[[ 8 11 12]\n",
            " [ 9  8 11]\n",
            " [12 12 11]]\n"
          ]
        }
      ],
      "source": [
        "matrix_a=np.random.randint(1,10,size=(3,3))\n",
        "matrix_b=np.random.randint(1,10,size=(3,3))\n",
        "print(matrix_a)\n",
        "print(matrix_b)\n",
        "sum = matrix_a + matrix_b\n",
        "print(sum)"
      ]
    },
    {
      "cell_type": "code",
      "execution_count": 4,
      "metadata": {
        "colab": {
          "base_uri": "https://localhost:8080/",
          "height": 315
        },
        "id": "AYuZi89CMCmM",
        "outputId": "0fa29eca-1f9b-4860-958b-c74a7f2c32b6"
      },
      "outputs": [
        {
          "name": "stdout",
          "output_type": "stream",
          "text": [
            "[[6 3 9]\n",
            " [8 6 4]\n",
            " [5 8 4]\n",
            " [8 5 2]]\n",
            "[[5 7 7]\n",
            " [1 4 9]\n",
            " [2 2 1]]\n"
          ]
        },
        {
          "ename": "ValueError",
          "evalue": "operands could not be broadcast together with shapes (4,3) (3,3) ",
          "output_type": "error",
          "traceback": [
            "\u001b[0;31m---------------------------------------------------------------------------\u001b[0m",
            "\u001b[0;31mValueError\u001b[0m                                Traceback (most recent call last)",
            "Cell \u001b[0;32mIn[4], line 6\u001b[0m\n\u001b[1;32m      4\u001b[0m \u001b[38;5;28mprint\u001b[39m(matrix_a)\n\u001b[1;32m      5\u001b[0m \u001b[38;5;28mprint\u001b[39m(matrix_b)\n\u001b[0;32m----> 6\u001b[0m \u001b[38;5;28msum\u001b[39m \u001b[38;5;241m=\u001b[39m \u001b[43mmatrix_a\u001b[49m\u001b[43m \u001b[49m\u001b[38;5;241;43m+\u001b[39;49m\u001b[43m \u001b[49m\u001b[43mmatrix_b\u001b[49m\n\u001b[1;32m      7\u001b[0m \u001b[38;5;28mprint\u001b[39m(\u001b[38;5;28msum\u001b[39m)\n",
            "\u001b[0;31mValueError\u001b[0m: operands could not be broadcast together with shapes (4,3) (3,3) "
          ]
        }
      ],
      "source": [
        "# adding two matrices with different shapes\n",
        "matrix_a=np.random.randint(1,10,size=(4,3))\n",
        "matrix_b=np.random.randint(1,10,size=(3,3))\n",
        "print(matrix_a)\n",
        "print(matrix_b)\n",
        "sum = matrix_a + matrix_b\n",
        "print(sum)"
      ]
    },
    {
      "cell_type": "code",
      "execution_count": 12,
      "metadata": {
        "colab": {
          "base_uri": "https://localhost:8080/"
        },
        "id": "BSMuCD2gMIqC",
        "outputId": "44d68a1c-f29a-4660-9342-c4f44ed7bc0f"
      },
      "outputs": [
        {
          "name": "stdout",
          "output_type": "stream",
          "text": [
            "[[5 5 1]\n",
            " [1 3 1]\n",
            " [8 5 7]]\n",
            "[[6 1 4]\n",
            " [5 3 3]\n",
            " [9 3 4]]\n",
            "[[-1  4 -3]\n",
            " [-4  0 -2]\n",
            " [-1  2  3]]\n"
          ]
        }
      ],
      "source": [
        "# Substaction\n",
        "matrix_a=np.random.randint(1,10,size=(3,3))\n",
        "matrix_b=np.random.randint(1,10,size=(3,3))\n",
        "print(matrix_a)\n",
        "print(matrix_b)\n",
        "diff = matrix_a - matrix_b\n",
        "print(diff)"
      ]
    },
    {
      "cell_type": "code",
      "execution_count": 13,
      "metadata": {
        "colab": {
          "base_uri": "https://localhost:8080/",
          "height": 297
        },
        "id": "0BebyQYgMPW9",
        "outputId": "d80d3c47-9b2b-4622-f60f-6a5275db3fca"
      },
      "outputs": [
        {
          "name": "stdout",
          "output_type": "stream",
          "text": [
            "[[9 5 9 6 9 4]\n",
            " [4 7 7 7 8 6]\n",
            " [4 6 9 2 6 4]]\n",
            "[[6 5 2]\n",
            " [3 3 9]\n",
            " [5 6 8]]\n"
          ]
        },
        {
          "ename": "ValueError",
          "evalue": "operands could not be broadcast together with shapes (3,6) (3,3) ",
          "output_type": "error",
          "traceback": [
            "\u001b[0;31m---------------------------------------------------------------------------\u001b[0m",
            "\u001b[0;31mValueError\u001b[0m                                Traceback (most recent call last)",
            "\u001b[0;32m<ipython-input-13-6d3694444688>\u001b[0m in \u001b[0;36m<cell line: 5>\u001b[0;34m()\u001b[0m\n\u001b[1;32m      3\u001b[0m \u001b[0mprint\u001b[0m\u001b[0;34m(\u001b[0m\u001b[0mmatrix_a\u001b[0m\u001b[0;34m)\u001b[0m\u001b[0;34m\u001b[0m\u001b[0;34m\u001b[0m\u001b[0m\n\u001b[1;32m      4\u001b[0m \u001b[0mprint\u001b[0m\u001b[0;34m(\u001b[0m\u001b[0mmatrix_b\u001b[0m\u001b[0;34m)\u001b[0m\u001b[0;34m\u001b[0m\u001b[0;34m\u001b[0m\u001b[0m\n\u001b[0;32m----> 5\u001b[0;31m \u001b[0mdiff\u001b[0m \u001b[0;34m=\u001b[0m \u001b[0mmatrix_a\u001b[0m \u001b[0;34m-\u001b[0m \u001b[0mmatrix_b\u001b[0m\u001b[0;34m\u001b[0m\u001b[0;34m\u001b[0m\u001b[0m\n\u001b[0m\u001b[1;32m      6\u001b[0m \u001b[0mprint\u001b[0m\u001b[0;34m(\u001b[0m\u001b[0mdiff\u001b[0m\u001b[0;34m)\u001b[0m\u001b[0;34m\u001b[0m\u001b[0;34m\u001b[0m\u001b[0m\n",
            "\u001b[0;31mValueError\u001b[0m: operands could not be broadcast together with shapes (3,6) (3,3) "
          ]
        }
      ],
      "source": [
        "# substracting two matrices with different shapes\n",
        "matrix_a=np.random.randint(1,10,size=(3,6))\n",
        "matrix_b=np.random.randint(1,10,size=(3,3))\n",
        "print(matrix_a)\n",
        "print(matrix_b)\n",
        "diff = matrix_a - matrix_b\n",
        "print(diff)"
      ]
    },
    {
      "cell_type": "code",
      "execution_count": 14,
      "metadata": {
        "colab": {
          "base_uri": "https://localhost:8080/"
        },
        "id": "6wRncry_MY49",
        "outputId": "f9c961d5-0ee7-4374-ca88-eb55a5497fed"
      },
      "outputs": [
        {
          "name": "stdout",
          "output_type": "stream",
          "text": [
            "[[3 6 4]\n",
            " [4 2 3]\n",
            " [7 1 4]]\n",
            "[[9 3 9]\n",
            " [1 3 8]\n",
            " [6 7 4]]\n",
            "[[-6  3 -5]\n",
            " [ 3 -1 -5]\n",
            " [ 1 -6  0]]\n"
          ]
        }
      ],
      "source": [
        "matrix_a=np.random.randint(1,10,size=(3,3))\n",
        "matrix_b=np.random.randint(1,10,size=(3,3))\n",
        "print(matrix_a)\n",
        "print(matrix_b)\n",
        "diff = np.subtract(matrix_a,matrix_b)\n",
        "print(diff)"
      ]
    },
    {
      "cell_type": "markdown",
      "metadata": {
        "id": "snKzpjcuMv-A"
      },
      "source": [
        "2. Multiplication"
      ]
    },
    {
      "cell_type": "markdown",
      "metadata": {
        "id": "EicXjtzGNWXf"
      },
      "source": [
        "- Rule: Number of cols in the first should be equal to number of rows"
      ]
    },
    {
      "cell_type": "markdown",
      "metadata": {
        "id": "VUiQQt2JM6M6"
      },
      "source": [
        "* By Scalar"
      ]
    },
    {
      "cell_type": "code",
      "execution_count": 16,
      "metadata": {
        "colab": {
          "base_uri": "https://localhost:8080/"
        },
        "id": "cPqZv_isMu7N",
        "outputId": "43821e96-1fd6-4d36-b4e2-455feb4830b0"
      },
      "outputs": [
        {
          "name": "stdout",
          "output_type": "stream",
          "text": [
            "Matrix A [[8 3 6]\n",
            " [3 3 1]\n",
            " [9 2 5]]\n",
            "Scalar 5\n",
            "Matrix X Scalar  [[40 15 30]\n",
            " [15 15  5]\n",
            " [45 10 25]]\n"
          ]
        }
      ],
      "source": [
        "x=5\n",
        "matrix_a=np.random.randint(1,10,size=(3,3))\n",
        "print('Matrix A:',matrix_a)\n",
        "print('Scalar:',x)\n",
        "print('Matrix X Scalar: ',x*matrix_a)"
      ]
    },
    {
      "cell_type": "markdown",
      "metadata": {
        "id": "_AiUyCFfNSVo"
      },
      "source": [
        "* By another matrix"
      ]
    },
    {
      "cell_type": "code",
      "execution_count": 27,
      "metadata": {
        "colab": {
          "base_uri": "https://localhost:8080/"
        },
        "id": "CG0d1LXANgEl",
        "outputId": "f857aee0-de02-4bf7-9cc5-908f9695fabc"
      },
      "outputs": [
        {
          "name": "stdout",
          "output_type": "stream",
          "text": [
            "Matrix A: [[2 2 9]\n",
            " [3 5 6]\n",
            " [8 8 5]\n",
            " [5 9 2]\n",
            " [4 1 2]]\n",
            "Matrix B: [[9 1]\n",
            " [9 7]\n",
            " [2 1]]\n",
            "Matrix Multiplication:  [[ 54  25]\n",
            " [ 84  44]\n",
            " [154  69]\n",
            " [130  70]\n",
            " [ 49  13]]\n"
          ]
        }
      ],
      "source": [
        "matrix_a=np.random.randint(1,10,size=(5,3))\n",
        "matrix_b=np.random.randint(1,10,size=(3,2))\n",
        "print('Matrix A:',matrix_a)\n",
        "print('Matrix B:',matrix_b)\n",
        "product=np.dot(matrix_a,matrix_b)\n",
        "print('Matrix Multiplication: ',product)"
      ]
    },
    {
      "cell_type": "code",
      "execution_count": 26,
      "metadata": {
        "colab": {
          "base_uri": "https://localhost:8080/",
          "height": 332
        },
        "id": "lUjtSnb8PKA0",
        "outputId": "ce5c69db-adcf-497f-d3d8-85e1762e17d5"
      },
      "outputs": [
        {
          "name": "stdout",
          "output_type": "stream",
          "text": [
            "Matrix A: [[6 9 6]\n",
            " [5 7 9]\n",
            " [5 3 7]\n",
            " [3 7 6]\n",
            " [5 3 2]]\n",
            "Matrix B: [[7 9]\n",
            " [5 2]\n",
            " [9 3]]\n"
          ]
        },
        {
          "ename": "ValueError",
          "evalue": "operands could not be broadcast together with shapes (5,3) (3,2) ",
          "output_type": "error",
          "traceback": [
            "\u001b[0;31m---------------------------------------------------------------------------\u001b[0m",
            "\u001b[0;31mValueError\u001b[0m                                Traceback (most recent call last)",
            "\u001b[0;32m<ipython-input-26-281fa3e69587>\u001b[0m in \u001b[0;36m<cell line: 5>\u001b[0;34m()\u001b[0m\n\u001b[1;32m      3\u001b[0m \u001b[0mprint\u001b[0m\u001b[0;34m(\u001b[0m\u001b[0;34m'Matrix A:'\u001b[0m\u001b[0;34m,\u001b[0m\u001b[0mmatrix_a\u001b[0m\u001b[0;34m)\u001b[0m\u001b[0;34m\u001b[0m\u001b[0;34m\u001b[0m\u001b[0m\n\u001b[1;32m      4\u001b[0m \u001b[0mprint\u001b[0m\u001b[0;34m(\u001b[0m\u001b[0;34m'Matrix B:'\u001b[0m\u001b[0;34m,\u001b[0m\u001b[0mmatrix_b\u001b[0m\u001b[0;34m)\u001b[0m\u001b[0;34m\u001b[0m\u001b[0;34m\u001b[0m\u001b[0m\n\u001b[0;32m----> 5\u001b[0;31m \u001b[0mproduct\u001b[0m\u001b[0;34m=\u001b[0m\u001b[0mnp\u001b[0m\u001b[0;34m.\u001b[0m\u001b[0mmultiply\u001b[0m\u001b[0;34m(\u001b[0m\u001b[0mmatrix_a\u001b[0m\u001b[0;34m,\u001b[0m\u001b[0mmatrix_b\u001b[0m\u001b[0;34m)\u001b[0m\u001b[0;34m\u001b[0m\u001b[0;34m\u001b[0m\u001b[0m\n\u001b[0m\u001b[1;32m      6\u001b[0m \u001b[0mprint\u001b[0m\u001b[0;34m(\u001b[0m\u001b[0;34m'Matrix Multiplication: '\u001b[0m\u001b[0;34m,\u001b[0m\u001b[0mproduct\u001b[0m\u001b[0;34m)\u001b[0m\u001b[0;34m\u001b[0m\u001b[0;34m\u001b[0m\u001b[0m\n",
            "\u001b[0;31mValueError\u001b[0m: operands could not be broadcast together with shapes (5,3) (3,2) "
          ]
        }
      ],
      "source": [
        "matrix_a=np.random.randint(1,10,size=(5,3))\n",
        "matrix_b=np.random.randint(1,10,size=(3,2))\n",
        "print('Matrix A:',matrix_a)\n",
        "print('Matrix B:',matrix_b)\n",
        "product=np.multiply(matrix_a,matrix_b)\n",
        "print('Matrix Multiplication: ',product)"
      ]
    }
  ],
  "metadata": {
    "colab": {
      "provenance": []
    },
    "kernelspec": {
      "display_name": "Python 3",
      "language": "python",
      "name": "python3"
    },
    "language_info": {
      "codemirror_mode": {
        "name": "ipython",
        "version": 3
      },
      "file_extension": ".py",
      "mimetype": "text/x-python",
      "name": "python",
      "nbconvert_exporter": "python",
      "pygments_lexer": "ipython3",
      "version": "3.12.1"
    }
  },
  "nbformat": 4,
  "nbformat_minor": 0
}
